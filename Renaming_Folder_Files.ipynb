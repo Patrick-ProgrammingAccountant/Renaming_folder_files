{
 "cells": [
  {
   "cell_type": "code",
   "execution_count": null,
   "metadata": {},
   "outputs": [],
   "source": [
    "### Importations\n",
    "import os\n",
    "import openpyxl\n",
    "print('Done')"
   ]
  },
  {
   "cell_type": "code",
   "execution_count": null,
   "metadata": {},
   "outputs": [],
   "source": [
    "### Path of the folder\n",
    "path = \"C:\\\\Users\\\\Owner\\\\Desktop\\\\Test_Folder\\\\\"### Forloop to change names of files in the choosen folder\n",
    "\n",
    "### Code for changing the names of files in a folder\n",
    "for filename in os.listdir(path):\n",
    "    # Original path of the files\n",
    "    original_filename = path + filename\n",
    "    # Renaming convention\n",
    "    new_filename = path + 'Old_' + filename\n",
    "    # Renaming code to change the name itself\n",
    "    os.rename(original_filename, new_filename)"
   ]
  },
  {
   "cell_type": "code",
   "execution_count": null,
   "metadata": {},
   "outputs": [],
   "source": []
  }
 ],
 "metadata": {
  "kernelspec": {
   "display_name": "Python 3",
   "language": "python",
   "name": "python3"
  },
  "language_info": {
   "codemirror_mode": {
    "name": "ipython",
    "version": 3
   },
   "file_extension": ".py",
   "mimetype": "text/x-python",
   "name": "python",
   "nbconvert_exporter": "python",
   "pygments_lexer": "ipython3",
   "version": "3.8.5"
  }
 },
 "nbformat": 4,
 "nbformat_minor": 4
}
